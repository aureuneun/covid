{
 "cells": [
  {
   "cell_type": "code",
   "execution_count": 2,
   "metadata": {},
   "outputs": [
    {
     "output_type": "execute_result",
     "data": {
      "text/plain": [
       "               Date Confirmed Deaths Recovered\n",
       "0    Province/State         0      0         0\n",
       "1           1/22/20         1      0         0\n",
       "2           1/23/20         1      0         0\n",
       "3           1/24/20         2      0         0\n",
       "4           1/25/20         2      0         0\n",
       "..              ...       ...    ...       ...\n",
       "372         1/27/21     76926   1386     66016\n",
       "373         1/28/21     77395   1399     66503\n",
       "374         1/29/21     77850   1414     67121\n",
       "375         1/30/21     78205   1420     67878\n",
       "376         1/31/21     78508   1425     68309\n",
       "\n",
       "[377 rows x 4 columns]"
      ],
      "text/html": "<div>\n<style scoped>\n    .dataframe tbody tr th:only-of-type {\n        vertical-align: middle;\n    }\n\n    .dataframe tbody tr th {\n        vertical-align: top;\n    }\n\n    .dataframe thead th {\n        text-align: right;\n    }\n</style>\n<table border=\"1\" class=\"dataframe\">\n  <thead>\n    <tr style=\"text-align: right;\">\n      <th></th>\n      <th>Date</th>\n      <th>Confirmed</th>\n      <th>Deaths</th>\n      <th>Recovered</th>\n    </tr>\n  </thead>\n  <tbody>\n    <tr>\n      <th>0</th>\n      <td>Province/State</td>\n      <td>0</td>\n      <td>0</td>\n      <td>0</td>\n    </tr>\n    <tr>\n      <th>1</th>\n      <td>1/22/20</td>\n      <td>1</td>\n      <td>0</td>\n      <td>0</td>\n    </tr>\n    <tr>\n      <th>2</th>\n      <td>1/23/20</td>\n      <td>1</td>\n      <td>0</td>\n      <td>0</td>\n    </tr>\n    <tr>\n      <th>3</th>\n      <td>1/24/20</td>\n      <td>2</td>\n      <td>0</td>\n      <td>0</td>\n    </tr>\n    <tr>\n      <th>4</th>\n      <td>1/25/20</td>\n      <td>2</td>\n      <td>0</td>\n      <td>0</td>\n    </tr>\n    <tr>\n      <th>...</th>\n      <td>...</td>\n      <td>...</td>\n      <td>...</td>\n      <td>...</td>\n    </tr>\n    <tr>\n      <th>372</th>\n      <td>1/27/21</td>\n      <td>76926</td>\n      <td>1386</td>\n      <td>66016</td>\n    </tr>\n    <tr>\n      <th>373</th>\n      <td>1/28/21</td>\n      <td>77395</td>\n      <td>1399</td>\n      <td>66503</td>\n    </tr>\n    <tr>\n      <th>374</th>\n      <td>1/29/21</td>\n      <td>77850</td>\n      <td>1414</td>\n      <td>67121</td>\n    </tr>\n    <tr>\n      <th>375</th>\n      <td>1/30/21</td>\n      <td>78205</td>\n      <td>1420</td>\n      <td>67878</td>\n    </tr>\n    <tr>\n      <th>376</th>\n      <td>1/31/21</td>\n      <td>78508</td>\n      <td>1425</td>\n      <td>68309</td>\n    </tr>\n  </tbody>\n</table>\n<p>377 rows × 4 columns</p>\n</div>"
     },
     "metadata": {},
     "execution_count": 2
    }
   ],
   "source": [
    "import pandas as pd\n",
    "\n",
    "conditions = [\"confirmed\", \"deaths\", \"recovered\"]\n",
    "\n",
    "\n",
    "def make_country_df(country):\n",
    "    def make_df(condition):\n",
    "        df = pd.read_csv(f\"data/time_{condition}.csv\")\n",
    "        df = df.loc[df[\"Country/Region\"] == country]\n",
    "        df = (\n",
    "            df.drop(columns=[\"Country/Region\", \"Lat\", \"Long\"])\n",
    "            .sum()\n",
    "            .reset_index(name=condition.capitalize())\n",
    "        )\n",
    "        df = df.rename(columns={\"index\": \"Date\"})\n",
    "        return df\n",
    "\n",
    "    final_df = None\n",
    "    for condition in conditions:\n",
    "        condition_df = make_df(condition)\n",
    "        if final_df is None:\n",
    "            final_df = condition_df\n",
    "        else:\n",
    "            final_df = final_df.merge(condition_df)\n",
    "    return final_df\n",
    "\n",
    "\n",
    "df = make_country_df(\"Korea, South\")\n",
    "df"
   ]
  },
  {
   "cell_type": "code",
   "execution_count": null,
   "metadata": {},
   "outputs": [],
   "source": []
  }
 ],
 "metadata": {
  "kernelspec": {
   "name": "python3",
   "display_name": "Python 3",
   "language": "python"
  }
 },
 "nbformat": 4,
 "nbformat_minor": 5
}